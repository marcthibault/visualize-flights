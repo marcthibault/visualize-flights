{
 "cells": [
  {
   "cell_type": "code",
   "execution_count": null,
   "id": "0388ab53-33da-4fcd-b616-93846764d0ea",
   "metadata": {},
   "outputs": [],
   "source": [
    "from geopy.geocoders import Nominatim\n",
    "def test_address(address):\n",
    "    geolocator = Nominatim(user_agent=\"Your_Name\")\n",
    "    location = geolocator.geocode(address)\n",
    "    print(location.address, (location.latitude, location.longitude))\n",
    "    return (location.latitude, location.longitude)"
   ]
  },
  {
   "cell_type": "markdown",
   "id": "2546888d-9e15-40bf-a10a-b5eca469cdda",
   "metadata": {},
   "source": [
    "### Input"
   ]
  },
  {
   "cell_type": "code",
   "execution_count": null,
   "id": "77447c27-330c-48f5-8897-14731e389334",
   "metadata": {},
   "outputs": [],
   "source": [
    "import numpy as np\n",
    "import pandas as pd"
   ]
  },
  {
   "cell_type": "code",
   "execution_count": null,
   "id": "2be4e563-bd2f-443e-8fc1-0f1b37a99f08",
   "metadata": {},
   "outputs": [],
   "source": [
    "DF = pd.read_csv(\"flights.csv\")\n",
    "DF = DF.loc[:, [\"departure\", \"arrival\"]]"
   ]
  },
  {
   "cell_type": "code",
   "execution_count": null,
   "id": "97c4ea8b-6ea0-49e7-bd59-ec911adb024f",
   "metadata": {},
   "outputs": [],
   "source": [
    "cities_trips = np.concatenate([DF.departure.values, DF.arrival.values])\n",
    "DCities = pd.DataFrame(cities_trips)\n",
    "cities_text = DCities.loc[:, 0].unique()"
   ]
  },
  {
   "cell_type": "markdown",
   "id": "6d6c5a73-8c38-4aba-a432-1672fa21bd89",
   "metadata": {
    "tags": []
   },
   "source": [
    "### Mapping"
   ]
  },
  {
   "cell_type": "code",
   "execution_count": null,
   "id": "6f4b8cda-d5e7-40b7-9f77-8863a1803a41",
   "metadata": {},
   "outputs": [],
   "source": [
    "mapping = {}\n",
    "mapping[\"Bagan\"] = \"Bagan, Myanmar\"\n",
    "mapping[\"Jackson Hole\"] = \"Jackson Hole, WY\"\n",
    "mapping[\"San_Jose_CR\"] = \"San Jose, Costa Rica\"\n",
    "mapping[\"Panama City\"] = \"Panama City, Panama\"\n",
    "mapping[\"Sint Marteen\"] = \"Saint Martin\""
   ]
  },
  {
   "cell_type": "code",
   "execution_count": null,
   "id": "db9ab525-b678-4ae0-afae-8e7a39361a98",
   "metadata": {
    "scrolled": true,
    "tags": []
   },
   "outputs": [],
   "source": [
    "map_coordinates = {}\n",
    "for city in cities_text:\n",
    "    print(city)\n",
    "    if city in mapping:\n",
    "        city = mapping[city]\n",
    "    res_coordinates = test_address(city)\n",
    "    print(res_coordinates)\n",
    "    map_coordinates[city] = res_coordinates"
   ]
  },
  {
   "cell_type": "code",
   "execution_count": null,
   "id": "d658a58a-0694-4852-9249-a34ef65336c0",
   "metadata": {},
   "outputs": [],
   "source": [
    "import dbm, json"
   ]
  },
  {
   "cell_type": "code",
   "execution_count": null,
   "id": "82140447-6ce9-4753-9909-c7903c3c0223",
   "metadata": {},
   "outputs": [],
   "source": [
    "with dbm.open('cache', 'c') as db:\n",
    "    db[b'mapping'] = json.dumps(mapping).encode(\"ascii\")"
   ]
  },
  {
   "cell_type": "code",
   "execution_count": null,
   "id": "6f2be475-4754-44b7-a3fc-d1701e24a53e",
   "metadata": {},
   "outputs": [],
   "source": [
    "with dbm.open('cache', 'c') as db:\n",
    "    db[b'map_coordinates'] = json.dumps(map_coordinates).encode(\"ascii\")"
   ]
  }
 ],
 "metadata": {
  "kernelspec": {
   "display_name": "Python 3 (ipykernel)",
   "language": "python",
   "name": "python3"
  },
  "language_info": {
   "codemirror_mode": {
    "name": "ipython",
    "version": 3
   },
   "file_extension": ".py",
   "mimetype": "text/x-python",
   "name": "python",
   "nbconvert_exporter": "python",
   "pygments_lexer": "ipython3",
   "version": "3.9.5"
  }
 },
 "nbformat": 4,
 "nbformat_minor": 5
}
