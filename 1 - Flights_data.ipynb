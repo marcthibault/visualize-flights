{
 "cells": [
  {
   "cell_type": "markdown",
   "id": "587bb79e-c5f0-43e3-88e8-ad1e8de477d7",
   "metadata": {
    "tags": []
   },
   "source": [
    "### Input"
   ]
  },
  {
   "cell_type": "code",
   "execution_count": null,
   "id": "798b98cf-13a7-436c-8ad5-7d30f5eb2fd3",
   "metadata": {},
   "outputs": [],
   "source": [
    "from pathlib import Path\n",
    "TXT0 = Path('flights.txt').read_text()"
   ]
  },
  {
   "cell_type": "markdown",
   "id": "54a45263-1020-4e31-b231-514bc725447e",
   "metadata": {
    "tags": []
   },
   "source": [
    "### Parse"
   ]
  },
  {
   "cell_type": "code",
   "execution_count": null,
   "id": "21d4420d-7c80-4b70-85a8-e00c7c9441fd",
   "metadata": {},
   "outputs": [],
   "source": [
    "TXT = []\n",
    "for line in TXT0.split(\"\\n\"):\n",
    "    if len(line) == 0:\n",
    "        continue\n",
    "    if line[0] == \"#\":\n",
    "        continue\n",
    "    TXT.append(line)"
   ]
  },
  {
   "cell_type": "code",
   "execution_count": null,
   "id": "4cbcec44-24a2-46aa-91c9-a8695b88df14",
   "metadata": {},
   "outputs": [],
   "source": [
    "TXT = [x.strip(\" \") for x in TXT]"
   ]
  },
  {
   "cell_type": "code",
   "execution_count": null,
   "id": "9d5bbb77-0462-4cf6-84e9-8ec330f3ebdc",
   "metadata": {},
   "outputs": [],
   "source": [
    "trips = [x.split(\" \") for x in TXT]\n",
    "trips[:6]"
   ]
  },
  {
   "cell_type": "code",
   "execution_count": null,
   "id": "8a43e719-f3cb-4126-99fb-6943db1071e6",
   "metadata": {},
   "outputs": [],
   "source": [
    "import copy, tqdm"
   ]
  },
  {
   "cell_type": "code",
   "execution_count": null,
   "id": "300f5ce3-b22b-409c-b318-de27bf81831e",
   "metadata": {},
   "outputs": [],
   "source": [
    "class ListCities:\n",
    "    def __init__(self):\n",
    "        self.list_str = set()\n",
    "\n",
    "    def contains(self, a):\n",
    "        if type(a) == str:\n",
    "            return a in self.list_str\n",
    "        elif type(a) == list:\n",
    "            return \" \".join(a) in self.list_str\n",
    "\n",
    "    def add(self, a):\n",
    "        if type(a) == str:\n",
    "            self.list_str.add(a)\n",
    "        elif type(a) == list:\n",
    "            self.list_str.add(\" \".join(a))\n",
    "            \n",
    "\n",
    "    def remove_candidate_head(self, a):\n",
    "        if type(a) == str:\n",
    "            a = a.split(\" \")\n",
    "        assert type(a) == list\n",
    "        \n",
    "        for k in range(1, 4):\n",
    "            if k > len(a):\n",
    "                break\n",
    "            candidate = \" \".join(a[:k])\n",
    "            if candidate in self.list_str:\n",
    "                return [candidate, a[k:]]\n",
    "        return [None, a]"
   ]
  },
  {
   "cell_type": "code",
   "execution_count": null,
   "id": "6db60fcc-778f-43e5-9a5c-b5d02d17cc54",
   "metadata": {},
   "outputs": [],
   "source": [
    "def trip_to_extract(trip, list_cities):\n",
    "    trip = copy.copy(trip)\n",
    "    if len(trip) == 0:\n",
    "        return []\n",
    "    \n",
    "    cities_on_trip = []\n",
    "    city, rest = list_cities.remove_candidate_head(trip)\n",
    "    # print(rest)\n",
    "    if city is None:\n",
    "        e = 1\n",
    "        while True:\n",
    "            if e > len(trip):\n",
    "                break\n",
    "            candidate = trip[:e]\n",
    "            rest = trip[e:]\n",
    "            if list_cities.contains(candidate):\n",
    "                cities_on_trip.append(\" \".join(candidate))\n",
    "                break\n",
    "            else:\n",
    "                print(candidate, \" ========= \", rest)\n",
    "                approve = input()\n",
    "                if approve == \"y\":\n",
    "                    list_cities.add(candidate)\n",
    "                    cities_on_trip.append(\" \".join(candidate))\n",
    "                    break\n",
    "                else:\n",
    "                    e = e+1\n",
    "\n",
    "    else:\n",
    "        cities_on_trip.append(city)\n",
    "    \n",
    "    \n",
    "    cities_rest = trip_to_extract(rest, list_cities)\n",
    "    # print(\"cities_rest = \", cities_rest)\n",
    "    return cities_on_trip + cities_rest\n",
    "    \n"
   ]
  },
  {
   "cell_type": "code",
   "execution_count": null,
   "id": "9f3766f2-3643-44ad-8afb-b89a694c6144",
   "metadata": {},
   "outputs": [],
   "source": [
    "L = ListCities()"
   ]
  },
  {
   "cell_type": "markdown",
   "id": "fd2fa082-a44a-4f12-9bc0-99a01fb2f49e",
   "metadata": {},
   "source": [
    "Enter `y` to approve a given breakdown"
   ]
  },
  {
   "cell_type": "code",
   "execution_count": null,
   "id": "0d205f65-feb1-4a29-aeaa-12f04a06a19a",
   "metadata": {},
   "outputs": [],
   "source": [
    "trips_formatted = []\n",
    "for trip in tqdm.tqdm_notebook(trips):\n",
    "    trips_formatted.append(trip_to_extract(trip, L))"
   ]
  },
  {
   "cell_type": "code",
   "execution_count": null,
   "id": "dc3a0fad-5795-4984-9105-4701ef25d3b3",
   "metadata": {},
   "outputs": [],
   "source": [
    "import pandas as pd"
   ]
  },
  {
   "cell_type": "code",
   "execution_count": null,
   "id": "eed6b533-75bb-4980-8458-b99bfc6f926a",
   "metadata": {},
   "outputs": [],
   "source": [
    "trips_broken = []\n",
    "for trip in trips_formatted:\n",
    "    for d, a in zip(trip, trip[1:]):\n",
    "        trips_broken.append([d, a])"
   ]
  },
  {
   "cell_type": "code",
   "execution_count": null,
   "id": "57cab99f-3f22-4769-8067-67b91c0058a7",
   "metadata": {},
   "outputs": [],
   "source": [
    "DF = pd.DataFrame(trips_broken, columns = [\"departure\", \"arrival\"])"
   ]
  },
  {
   "cell_type": "code",
   "execution_count": null,
   "id": "a3026353-e862-46a3-8dee-b66bddf6a6be",
   "metadata": {},
   "outputs": [],
   "source": [
    "DF.to_csv(\"flights.csv\")"
   ]
  },
  {
   "cell_type": "markdown",
   "id": "e66c80ae-e3ac-4d05-a677-e23e5b209ac3",
   "metadata": {},
   "source": [
    "### Analyze"
   ]
  },
  {
   "cell_type": "code",
   "execution_count": null,
   "id": "f363dcad-9e9d-4bda-9e1c-16ba0813a830",
   "metadata": {},
   "outputs": [],
   "source": [
    "import numpy as np\n",
    "import pandas as pd"
   ]
  },
  {
   "cell_type": "code",
   "execution_count": null,
   "id": "0b26118d-df2d-438b-bc16-88ee9cd1cde3",
   "metadata": {},
   "outputs": [],
   "source": [
    "DF = pd.read_csv(\"flights.csv\")\n",
    "DF = DF.loc[:, [\"departure\", \"arrival\"]]"
   ]
  },
  {
   "cell_type": "code",
   "execution_count": null,
   "id": "48b63cb3-17bb-4352-8668-d0af8080cfe0",
   "metadata": {},
   "outputs": [],
   "source": [
    "cities_trips = np.concatenate([DF.departure.values, DF.arrival.values])\n",
    "DCities = pd.DataFrame(cities_trips)\n",
    "DCities[\"c\"] = 1\n",
    "DCities.groupby(0).count().sort_values(\"c\").tail(10)"
   ]
  }
 ],
 "metadata": {
  "kernelspec": {
   "display_name": "Python 3 (ipykernel)",
   "language": "python",
   "name": "python3"
  },
  "language_info": {
   "codemirror_mode": {
    "name": "ipython",
    "version": 3
   },
   "file_extension": ".py",
   "mimetype": "text/x-python",
   "name": "python",
   "nbconvert_exporter": "python",
   "pygments_lexer": "ipython3",
   "version": "3.9.5"
  }
 },
 "nbformat": 4,
 "nbformat_minor": 5
}
