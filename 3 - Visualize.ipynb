{
 "cells": [
  {
   "cell_type": "markdown",
   "id": "9844512d-4707-4e7c-8449-3db4fa715e0c",
   "metadata": {},
   "source": [
    "### Input"
   ]
  },
  {
   "cell_type": "code",
   "execution_count": null,
   "id": "1ecb00d0-7514-4263-934e-543e22efcb06",
   "metadata": {},
   "outputs": [],
   "source": [
    "import json, dbm"
   ]
  },
  {
   "cell_type": "code",
   "execution_count": null,
   "id": "38f3762a-147e-4291-9150-782ab08e480f",
   "metadata": {},
   "outputs": [],
   "source": [
    "import pandas as pd\n",
    "import numpy as np"
   ]
  },
  {
   "cell_type": "code",
   "execution_count": null,
   "id": "c54227a0-3ee3-43c7-9f66-93175b46e844",
   "metadata": {},
   "outputs": [],
   "source": [
    "with dbm.open('cache', 'c') as db:\n",
    "    map_coordinates = json.loads(db[b'map_coordinates'])"
   ]
  },
  {
   "cell_type": "code",
   "execution_count": null,
   "id": "ccd97803-b0e1-43c7-aa65-83b558d8db16",
   "metadata": {},
   "outputs": [],
   "source": [
    "with dbm.open('cache', 'c') as db:\n",
    "    mapping = json.loads(db[b'mapping'])"
   ]
  },
  {
   "cell_type": "code",
   "execution_count": null,
   "id": "d7e729d3-6ab5-4799-9d48-7233b07084ec",
   "metadata": {},
   "outputs": [],
   "source": [
    "DF = pd.read_csv(\"flights.csv\")\n",
    "DF = DF.loc[:, [\"departure\", \"arrival\"]]\n",
    "DF[\"order\"] = range(len(DF))"
   ]
  },
  {
   "cell_type": "code",
   "execution_count": null,
   "id": "c210b3b8-92f3-4c38-8716-6bf5ba0215f7",
   "metadata": {},
   "outputs": [],
   "source": [
    "for i in range(len(DF)):\n",
    "    if DF.departure.iloc[i] in mapping:\n",
    "        DF.departure.iloc[i] = mapping[DF.departure.iloc[i]]\n",
    "    if DF.arrival.iloc[i] in mapping:\n",
    "        DF.arrival.iloc[i] = mapping[DF.arrival.iloc[i]]"
   ]
  },
  {
   "cell_type": "markdown",
   "id": "fd3648f0-1fa3-4278-854f-5590d6aae726",
   "metadata": {
    "tags": []
   },
   "source": [
    "### To DF"
   ]
  },
  {
   "cell_type": "code",
   "execution_count": null,
   "id": "cba6eda9-78cc-49be-be06-a280ece811d8",
   "metadata": {},
   "outputs": [],
   "source": [
    "DF_c = pd.DataFrame(map_coordinates).T\n",
    "DF_c.columns = [\"latitude\", \"longitude\"]"
   ]
  },
  {
   "cell_type": "code",
   "execution_count": null,
   "id": "43adf3d5-13c8-4b77-83ef-d6180b404563",
   "metadata": {},
   "outputs": [],
   "source": [
    "DF = DF.merge(DF_c, left_on=\"departure\", right_index=True)\n",
    "DF = DF.rename({\"latitude\":\"latitude_dep\", \"longitude\":\"longitude_dep\"}, axis=1)\n",
    "DF"
   ]
  },
  {
   "cell_type": "code",
   "execution_count": null,
   "id": "e3ba7be4-3ecb-40de-9ab6-cc276bcd0546",
   "metadata": {},
   "outputs": [],
   "source": [
    "DF = DF.merge(DF_c, left_on=\"arrival\", right_index=True)\n",
    "DF = DF.rename({\"latitude\":\"latitude_arr\", \"longitude\":\"longitude_arr\"}, axis=1)\n",
    "DF"
   ]
  },
  {
   "cell_type": "code",
   "execution_count": null,
   "id": "e07c01b2-e1a0-4a7e-a3b9-bd28e600e3e1",
   "metadata": {},
   "outputs": [],
   "source": [
    "DF = DF.sort_values(\"order\")"
   ]
  },
  {
   "cell_type": "markdown",
   "id": "71c227c5-0076-4ecc-a912-57987caeca76",
   "metadata": {},
   "source": [
    "### Plot trip"
   ]
  },
  {
   "cell_type": "code",
   "execution_count": null,
   "id": "5ee68a0d-0e04-4726-a9c0-71b218d77537",
   "metadata": {},
   "outputs": [],
   "source": [
    "from mpl_toolkits.basemap import Basemap\n",
    "import matplotlib.pyplot as plt"
   ]
  },
  {
   "cell_type": "code",
   "execution_count": null,
   "id": "7cb48a56-8d6a-477d-acd3-ea8b428113ab",
   "metadata": {},
   "outputs": [],
   "source": [
    "llon=-179\n",
    "ulon=180\n",
    "llat=-70\n",
    "ulat=80\n",
    "\n",
    "my_map=Basemap(projection='merc',\n",
    "            resolution = 'l', area_thresh = 1000.0,\n",
    "            llcrnrlon=llon, llcrnrlat=llat,urcrnrlon=ulon, urcrnrlat=ulat)\n"
   ]
  },
  {
   "cell_type": "code",
   "execution_count": null,
   "id": "b26cf58d-2cdb-4d40-a575-9ca4cbc5d0d7",
   "metadata": {},
   "outputs": [],
   "source": [
    "def plot_trip(trip, df_base):\n",
    "    my_map.drawlsmask(land_color='grey', ocean_color='skyblue')\n",
    "    xs,ys = my_map(np.asarray(df_base.longitude), np.asarray(df_base.latitude))\n",
    "    df_base['x']= xs.tolist()\n",
    "    df_base['y'] =ys.tolist()\n",
    "\n",
    "    for index,row in df_base.iterrows():\n",
    "        my_map.plot(row.x,row.y,markerfacecolor='black',\n",
    "                   markeredgecolor='white',marker='o',markersize=5)\n",
    "    \n",
    "    xs,ys = my_map(trip.loc[[\"longitude_dep\", \"longitude_arr\"]].values, \n",
    "                   trip.loc[[\"latitude_dep\", \"latitude_arr\"]].values,)\n",
    "    \n",
    "    my_map.plot(xs.tolist(), ys.tolist(), markerfacecolor='red',\n",
    "                   markeredgecolor='white',marker='o',\n",
    "               c=\"r\")\n",
    "    "
   ]
  },
  {
   "cell_type": "code",
   "execution_count": null,
   "id": "eb7573ac-cdd9-4cc0-b370-18e240c812b6",
   "metadata": {},
   "outputs": [],
   "source": [
    "trip = DF.loc[123]\n",
    "trip"
   ]
  },
  {
   "cell_type": "code",
   "execution_count": null,
   "id": "c8c966eb-4033-451d-b206-ebd157c340c5",
   "metadata": {},
   "outputs": [],
   "source": [
    "plot_trip(trip, DF_c)\n",
    "plt.show()"
   ]
  },
  {
   "cell_type": "markdown",
   "id": "8809163c-a5f2-46d6-b8b3-8c01b3c7d8ab",
   "metadata": {},
   "source": [
    "### Animate"
   ]
  },
  {
   "cell_type": "code",
   "execution_count": null,
   "id": "2625d2e2-b35a-4a52-9670-17409566de0c",
   "metadata": {},
   "outputs": [],
   "source": [
    "from tqdm import tqdm_notebook"
   ]
  },
  {
   "cell_type": "code",
   "execution_count": null,
   "id": "c18a0574-4fc8-4548-a359-077e1eb50364",
   "metadata": {},
   "outputs": [],
   "source": [
    "from celluloid import Camera # getting the camera\n",
    "import matplotlib.pyplot as plt\n",
    "import numpy as np\n",
    "from IPython.display import HTML # to show the animation in Jupyter\n",
    "fig, ax = plt.subplots() # creating my fig\n",
    "camera = Camera(fig)# the camera gets the fig we'll plot\n",
    "\n",
    "for i, trip in tqdm_notebook(DF.iterrows(), total=len(DF)):\n",
    "    title = ax.text(0.5,0.85, \"\", bbox={'facecolor':'w', 'alpha':0.5, 'pad':5},\n",
    "                transform=ax.transAxes, ha=\"center\")\n",
    "    plot_trip(trip, DF_c)\n",
    "    title.set_text(f\"{trip.departure} -> {trip.arrival}\")\n",
    "    camera.snap() # the camera takes a snapshot of the plot\n",
    "    plt.savefig(f\"images/img_{i}.png\")\n",
    "\n",
    "animation = camera.animate() # animation ready\n",
    "HTML(animation.to_jshtml()) # displaying the animation\n"
   ]
  },
  {
   "cell_type": "markdown",
   "id": "d2251437-f49c-4314-a870-afb6904aa7ed",
   "metadata": {},
   "source": [
    "### Save to file"
   ]
  },
  {
   "cell_type": "code",
   "execution_count": null,
   "id": "2e603656-2cbd-4789-8f83-a9ffe7f13b26",
   "metadata": {},
   "outputs": [],
   "source": [
    "from copy import deepcopy"
   ]
  },
  {
   "cell_type": "code",
   "execution_count": null,
   "id": "ea4b7345-519f-4ae6-876e-7572c9f73385",
   "metadata": {
    "scrolled": true,
    "tags": []
   },
   "outputs": [],
   "source": [
    "my_map0=Basemap(projection='merc',\n",
    "            resolution = 'l', area_thresh = 1000.0,\n",
    "            llcrnrlon=llon, llcrnrlat=llat,urcrnrlon=ulon, urcrnrlat=ulat)\n",
    "    \n",
    "for i, trip in tqdm_notebook(DF.iterrows(), total=len(DF)):\n",
    "    if i < 110:\n",
    "        continue\n",
    "    my_map = deepcopy(my_map0)\n",
    "    \n",
    "    fig, ax = plt.subplots() # creating my fig\n",
    "    \n",
    "    title = ax.text(0.5,0.85, \"\", bbox={'facecolor':'w', 'alpha':0.5, 'pad':5},\n",
    "                transform=ax.transAxes, ha=\"center\")\n",
    "    plot_trip(trip, DF_c)\n",
    "    title.set_text(f\"{trip.departure} -> {trip.arrival}\")\n",
    "    plt.savefig(f\"images/img_{i}.png\")\n"
   ]
  },
  {
   "cell_type": "code",
   "execution_count": null,
   "id": "28e51003-f5d8-4161-98a7-58632ae24656",
   "metadata": {},
   "outputs": [],
   "source": []
  }
 ],
 "metadata": {
  "kernelspec": {
   "display_name": "Python 3 (ipykernel)",
   "language": "python",
   "name": "python3"
  },
  "language_info": {
   "codemirror_mode": {
    "name": "ipython",
    "version": 3
   },
   "file_extension": ".py",
   "mimetype": "text/x-python",
   "name": "python",
   "nbconvert_exporter": "python",
   "pygments_lexer": "ipython3",
   "version": "3.9.5"
  }
 },
 "nbformat": 4,
 "nbformat_minor": 5
}
